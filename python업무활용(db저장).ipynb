{
 "cells": [
  {
   "cell_type": "markdown",
   "metadata": {},
   "source": [
    "# Excel 데이터 sqlite DB 저장하기"
   ]
  },
  {
   "cell_type": "markdown",
   "metadata": {},
   "source": [
    "# 1. excel 데이터 가져오기/ 데이터프레임으로 데이터 생성하기"
   ]
  },
  {
   "cell_type": "code",
   "execution_count": 7,
   "metadata": {},
   "outputs": [],
   "source": [
    "import sqlite3\n",
    "import pandas as pd"
   ]
  },
  {
   "cell_type": "code",
   "execution_count": 8,
   "metadata": {},
   "outputs": [
    {
     "name": "stderr",
     "output_type": "stream",
     "text": [
      "/anaconda/lib/python3.6/site-packages/pandas/util/_decorators.py:118: FutureWarning: The `sheetname` keyword is deprecated, use `sheet_name` instead\n",
      "  return func(*args, **kwargs)\n"
     ]
    },
    {
     "data": {
      "text/html": [
       "<div>\n",
       "<style scoped>\n",
       "    .dataframe tbody tr th:only-of-type {\n",
       "        vertical-align: middle;\n",
       "    }\n",
       "\n",
       "    .dataframe tbody tr th {\n",
       "        vertical-align: top;\n",
       "    }\n",
       "\n",
       "    .dataframe thead th {\n",
       "        text-align: right;\n",
       "    }\n",
       "</style>\n",
       "<table border=\"1\" class=\"dataframe\">\n",
       "  <thead>\n",
       "    <tr style=\"text-align: right;\">\n",
       "      <th></th>\n",
       "      <th>clear_well</th>\n",
       "      <th>check_date</th>\n",
       "      <th>value</th>\n",
       "    </tr>\n",
       "  </thead>\n",
       "  <tbody>\n",
       "    <tr>\n",
       "      <th>0</th>\n",
       "      <td>반월(정) 2단계 정수지 수위1</td>\n",
       "      <td>20180401</td>\n",
       "      <td>2.477471</td>\n",
       "    </tr>\n",
       "    <tr>\n",
       "      <th>1</th>\n",
       "      <td>반월(정) 2단계 정수지 수위1</td>\n",
       "      <td>20180402</td>\n",
       "      <td>2.725188</td>\n",
       "    </tr>\n",
       "    <tr>\n",
       "      <th>2</th>\n",
       "      <td>반월(정) 2단계 정수지 수위1</td>\n",
       "      <td>20180403</td>\n",
       "      <td>2.635096</td>\n",
       "    </tr>\n",
       "    <tr>\n",
       "      <th>3</th>\n",
       "      <td>반월(정) 2단계 정수지 수위1</td>\n",
       "      <td>20180404</td>\n",
       "      <td>2.688096</td>\n",
       "    </tr>\n",
       "    <tr>\n",
       "      <th>4</th>\n",
       "      <td>반월(정) 2단계 정수지 수위1</td>\n",
       "      <td>20180405</td>\n",
       "      <td>2.773054</td>\n",
       "    </tr>\n",
       "    <tr>\n",
       "      <th>5</th>\n",
       "      <td>반월(정) 2단계 정수지 수위1</td>\n",
       "      <td>20180406</td>\n",
       "      <td>2.728058</td>\n",
       "    </tr>\n",
       "  </tbody>\n",
       "</table>\n",
       "</div>"
      ],
      "text/plain": [
       "          clear_well check_date     value\n",
       "0  반월(정) 2단계 정수지 수위1   20180401  2.477471\n",
       "1  반월(정) 2단계 정수지 수위1   20180402  2.725188\n",
       "2  반월(정) 2단계 정수지 수위1   20180403  2.635096\n",
       "3  반월(정) 2단계 정수지 수위1   20180404  2.688096\n",
       "4  반월(정) 2단계 정수지 수위1   20180405  2.773054\n",
       "5  반월(정) 2단계 정수지 수위1   20180406  2.728058"
      ]
     },
     "execution_count": 8,
     "metadata": {},
     "output_type": "execute_result"
    }
   ],
   "source": [
    "input_file = \"/Users/kim/Downloads/실시간 수도정보 수위(시간)2018-04-27.xlsx\"\n",
    "data_frame = pd.read_excel(input_file, sheetname='1시간 수위')\n",
    "data_sum = data_frame.loc[:,['자료 수집 TAG 설명','발생일시','유량']]\n",
    "data_sum['발생일'] = data_sum['발생일시'].astype(str).str.slice(0, 8)\n",
    "data_sum = data_sum.groupby(['자료 수집 TAG 설명','발생일'])['유량'].mean().reset_index()\n",
    "data_sum.rename(index=str, columns={\"자료 수집 TAG 설명\": \"a\", \"발생일\": \"b\", \"유량\": \"c\"})\n",
    "data_sum.columns = ['clear_well', 'check_date','value']\n",
    "data_sum.head(6)"
   ]
  },
  {
   "cell_type": "markdown",
   "metadata": {},
   "source": [
    "# 2. 데이터 저장(sqlite) - Summary 데이터 저장 "
   ]
  },
  {
   "cell_type": "code",
   "execution_count": 9,
   "metadata": {},
   "outputs": [
    {
     "name": "stderr",
     "output_type": "stream",
     "text": [
      "/anaconda/lib/python3.6/site-packages/pandas/io/sql.py:531: FutureWarning: the 'flavor' parameter is deprecated and will be removed in a future version, as 'sqlite' is the only supported option when SQLAlchemy is not installed.\n",
      "  _validate_flavor_parameter(flavor)\n"
     ]
    }
   ],
   "source": [
    "con = sqlite3.connect('Suppliers.db')\n",
    "c = con.cursor()\n",
    "create_table = \"\"\"CREATE TABLE IF NOT EXISTS kwater\n",
    "\t\t\t\t(clear_well VARCHAR(100), \n",
    "\t\t\t\tcheck_date VARCHAR(100),\n",
    "\t\t\t\tvalue FLOAT);\"\"\"\n",
    "c.execute(create_table)\n",
    "con.commit()\n",
    "data_sum.to_sql('kwater', con, flavor='sqlite', schema=None, if_exists='replace', \n",
    "                 index=True, index_label=None, chunksize=None, dtype=None)\n",
    "\n",
    "con.close()"
   ]
  },
  {
   "cell_type": "code",
   "execution_count": 6,
   "metadata": {},
   "outputs": [],
   "source": [
    "#kwater = pd.read_sql_query(\"select * from kwater limit 5;\", con)"
   ]
  }
 ],
 "metadata": {
  "kernelspec": {
   "display_name": "Python 3",
   "language": "python",
   "name": "python3"
  },
  "language_info": {
   "codemirror_mode": {
    "name": "ipython",
    "version": 3
   },
   "file_extension": ".py",
   "mimetype": "text/x-python",
   "name": "python",
   "nbconvert_exporter": "python",
   "pygments_lexer": "ipython3",
   "version": "3.6.4"
  }
 },
 "nbformat": 4,
 "nbformat_minor": 2
}
