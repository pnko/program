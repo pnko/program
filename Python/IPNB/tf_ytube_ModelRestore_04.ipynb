{
 "cells": [
  {
   "cell_type": "markdown",
   "metadata": {},
   "source": [
    "##### YouTube  Tensorflow 2강. Model 설계하기\n",
    "##### https://www.youtube.com/watch?v=eQ-UHjyvEck&index=2&list=PL1H8jIvbSo1qOtjQXFzBxMWjL_Gc5x3yG\n",
    "\n",
    "### 1 .Model 만든 후 트레이닝- 02. Model 테스트 하기 - 3. Model Restore"
   ]
  },
  {
   "cell_type": "code",
   "execution_count": 1,
   "metadata": {
    "collapsed": false
   },
   "outputs": [],
   "source": [
    "import tensorflow as tf"
   ]
  },
  {
   "cell_type": "code",
   "execution_count": 2,
   "metadata": {
    "collapsed": true
   },
   "outputs": [],
   "source": [
    "input_data = [[1,5,3,7,8,10,12],\n",
    "              [5,8,10,3,9,7,1]\n",
    "             ]\n",
    "label_data = [[0,0,0,1,0],\n",
    "             [1,0,0,0,0]\n",
    "             ]"
   ]
  },
  {
   "cell_type": "code",
   "execution_count": 3,
   "metadata": {
    "collapsed": true
   },
   "outputs": [],
   "source": [
    "INPUT_SIZE = 7\n",
    "HIDDEN1_SIZE = 10\n",
    "HIDDEN2_SIZE = 8\n",
    "CLASSES = 5\n",
    "Leaning_Rate= 0.05"
   ]
  },
  {
   "cell_type": "code",
   "execution_count": 4,
   "metadata": {
    "collapsed": true
   },
   "outputs": [],
   "source": [
    "x = tf.placeholder(tf.float32, shape=[None,INPUT_SIZE], name= \"x\")\n",
    "y_ = tf.placeholder(tf.float32, shape=[None,CLASSES], name= \"y_\")\n",
    "tensor_map={x:input_data, y_: label_data}"
   ]
  },
  {
   "cell_type": "code",
   "execution_count": 5,
   "metadata": {
    "collapsed": false,
    "scrolled": true
   },
   "outputs": [
    {
     "name": "stdout",
     "output_type": "stream",
     "text": [
      "Tensor(\"w_h1/read:0\", shape=(7, 10), dtype=float32)\n",
      "Tensor(\"o_h1/read:0\", shape=(10,), dtype=float32)\n"
     ]
    }
   ],
   "source": [
    "## Model 설계(Weight 설계) 파라미터 설정, 모델 설정\n",
    "# hiddn 1 레이어\n",
    "w_h1 = tf.Variable(tf.truncated_normal(shape=[INPUT_SIZE, HIDDEN1_SIZE]),dtype=tf.float32, name= \"w_h1\")\n",
    "b_h1 = tf.Variable(tf.zeros(shape=[HIDDEN1_SIZE]), dtype=tf.float32 , name= \"o_h1\")\n",
    "print(w_h1)\n",
    "print(b_h1)\n",
    "# hiddn 2 레이어\n",
    "w_h2 = tf.Variable(tf.truncated_normal(shape=[HIDDEN1_SIZE, HIDDEN2_SIZE]),dtype=tf.float32,  name= \"w_h2\")\n",
    "b_h2 = tf.Variable(tf.zeros(shape=[HIDDEN2_SIZE]), dtype=tf.float32 , name= \"w_h2\")\n",
    "\n",
    "# hiddn 마지막 레이어\n",
    "w_o = tf.Variable(tf.truncated_normal(shape=[HIDDEN2_SIZE, CLASSES]),dtype=tf.float32  ,name= \"w_o\")\n",
    "b_o= tf.Variable(tf.zeros(shape=[CLASSES]), dtype=tf.float32  ,name= \"b_o\")\n",
    "\n",
    "# Model Save Wegtht 저장\n",
    "param_list = [w_h1, b_h1, w_h2, b_h2, w_o, b_o]\n",
    "server = tf.train.Saver(param_list)\n",
    "\n",
    "# 참고 : sigmoid 의 정규화한 것이 softmax  softmax 와 label 과 비교해서 얼마나 다른지 비교함.(PredDiction)"
   ]
  },
  {
   "cell_type": "code",
   "execution_count": 6,
   "metadata": {
    "collapsed": true
   },
   "outputs": [],
   "source": [
    "#hidden1 = tf.matmul(x , w_h1) + b_h1 #선형 회귀 모델\n",
    "hidden1 = tf.sigmoid(tf.matmul(x , w_h1) + b_h1  ,name= \"hidden1\") #simoid를 이용한 로지스틱 회귀 모델(현재 데이터는 로지스틱)\n",
    "\n",
    "#hidden2 = tf.matmul(hidden1, w_h2) + b_h2\n",
    "hidden2 = tf.sigmoid(tf.matmul(hidden1, w_h2) + b_h2  ,name= \"hidden2\")\n",
    "\n",
    "#y = tf.matmul(hidden2, w_o) + b_o\n",
    "y = tf.sigmoid(tf.matmul(hidden2, w_o) + b_o  ,name= \"y\")"
   ]
  },
  {
   "cell_type": "code",
   "execution_count": 7,
   "metadata": {
    "collapsed": true
   },
   "outputs": [],
   "source": [
    "sess = tf.Session()"
   ]
  },
  {
   "cell_type": "code",
   "execution_count": 8,
   "metadata": {
    "collapsed": false,
    "scrolled": true
   },
   "outputs": [
    {
     "name": "stdout",
     "output_type": "stream",
     "text": [
      "[[ 0.07147974  0.0022074   0.0036396   0.93113941  0.00194707]\n",
      " [ 0.92630768  0.00795765  0.00737403  0.07115774  0.00825415]]\n"
     ]
    }
   ],
   "source": [
    "#init = tf.global_variables_initializer()\n",
    "server.restore(sess, \"./tensorflow_live.ckpt\")\n",
    "#sess.run(init)\n",
    "result = sess.run(y, tensor_map)\n",
    "print(result)\n"
   ]
  },
  {
   "cell_type": "code",
   "execution_count": null,
   "metadata": {
    "collapsed": true
   },
   "outputs": [],
   "source": []
  }
 ],
 "metadata": {
  "anaconda-cloud": {},
  "kernelspec": {
   "display_name": "Python [conda root]",
   "language": "python",
   "name": "conda-root-py"
  },
  "language_info": {
   "codemirror_mode": {
    "name": "ipython",
    "version": 3
   },
   "file_extension": ".py",
   "mimetype": "text/x-python",
   "name": "python",
   "nbconvert_exporter": "python",
   "pygments_lexer": "ipython3",
   "version": "3.5.2"
  }
 },
 "nbformat": 4,
 "nbformat_minor": 1
}
