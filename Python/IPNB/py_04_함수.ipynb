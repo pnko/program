{
 "cells": [
  {
   "cell_type": "code",
   "execution_count": null,
   "metadata": {
    "collapsed": true
   },
   "outputs": [],
   "source": [
    "#==================\n",
    "# 함수\n",
    "#=================="
   ]
  },
  {
   "cell_type": "code",
   "execution_count": 5,
   "metadata": {
    "collapsed": false
   },
   "outputs": [
    {
     "data": {
      "text/plain": [
       "6"
      ]
     },
     "execution_count": 5,
     "metadata": {},
     "output_type": "execute_result"
    }
   ],
   "source": [
    "# 입력값이 몇개 될지 모를 경우\n",
    "def sum_many(*args):\n",
    "    sum = 0\n",
    "    for i in args:\n",
    "        sum = sum +i\n",
    "    return sum\n",
    "    \n",
    "sum_many(1,2,3)    \n"
   ]
  },
  {
   "cell_type": "code",
   "execution_count": 7,
   "metadata": {
    "collapsed": false
   },
   "outputs": [
    {
     "data": {
      "text/plain": [
       "15"
      ]
     },
     "execution_count": 7,
     "metadata": {},
     "output_type": "execute_result"
    }
   ],
   "source": [
    "def sum_mul(choice, *args):\n",
    "    if choice == \"sum\":\n",
    "        result = 0\n",
    "        for i in args:\n",
    "            result = result + i\n",
    "    elif choice == \"mul\":\n",
    "        result = 1\n",
    "        for i in args:\n",
    "            result = result * i\n",
    "    return result\n",
    "\n",
    "sum_mul('sum',1,2,3,4,5)"
   ]
  },
  {
   "cell_type": "code",
   "execution_count": 8,
   "metadata": {
    "collapsed": false
   },
   "outputs": [
    {
     "data": {
      "text/plain": [
       "120"
      ]
     },
     "execution_count": 8,
     "metadata": {},
     "output_type": "execute_result"
    }
   ],
   "source": [
    "sum_mul('mul',1,2,3,4,5)"
   ]
  },
  {
   "cell_type": "code",
   "execution_count": 11,
   "metadata": {
    "collapsed": false
   },
   "outputs": [
    {
     "name": "stdout",
     "output_type": "stream",
     "text": [
      "나의 별명은 야호입니다\n"
     ]
    }
   ],
   "source": [
    "# retunr 은 값을 반환화는 것도 쓰지만, 함수를 빠져나오는 기능도 있다.\n",
    "def say_nick(nick):\n",
    "    if nick == \"바보\":\n",
    "        return\n",
    "    print(\"나의 별명은 %s입니다\" % nick)\n",
    "    \n",
    "say_nick(\"야호\")    \n",
    "    "
   ]
  },
  {
   "cell_type": "code",
   "execution_count": 12,
   "metadata": {
    "collapsed": true
   },
   "outputs": [],
   "source": [
    "say_nick(\"바보\")"
   ]
  },
  {
   "cell_type": "code",
   "execution_count": 14,
   "metadata": {
    "collapsed": false
   },
   "outputs": [],
   "source": [
    "#입력 인수에 초기값 미리 설정하기\n",
    "#def say_myself(name, old, man=True)"
   ]
  },
  {
   "cell_type": "code",
   "execution_count": 23,
   "metadata": {
    "collapsed": false
   },
   "outputs": [
    {
     "data": {
      "text/plain": [
       "2"
      ]
     },
     "execution_count": 23,
     "metadata": {},
     "output_type": "execute_result"
    }
   ],
   "source": [
    "# global 명령어 사용하기\n",
    "a =1\n",
    "def vartest():\n",
    "    global a\n",
    "    a = a+1\n",
    "    \n",
    "vartest()\n",
    "a"
   ]
  },
  {
   "cell_type": "code",
   "execution_count": 25,
   "metadata": {
    "collapsed": false
   },
   "outputs": [
    {
     "name": "stdout",
     "output_type": "stream",
     "text": [
      "숫자를 입력하세요:4\n",
      "4\n"
     ]
    }
   ],
   "source": [
    "#==================\n",
    "# 사용자 입력과 출력\n",
    "#==================\n",
    "a = input(\"숫자를 입력하세요:\")\n",
    "print(a)"
   ]
  },
  {
   "cell_type": "code",
   "execution_count": 26,
   "metadata": {
    "collapsed": false
   },
   "outputs": [
    {
     "name": "stdout",
     "output_type": "stream",
     "text": [
      "lifeistoo short\n"
     ]
    }
   ],
   "source": [
    "#Print 자세히 알기\n",
    "print(\"life\" \"is\" \"too short\")"
   ]
  },
  {
   "cell_type": "code",
   "execution_count": 27,
   "metadata": {
    "collapsed": false
   },
   "outputs": [
    {
     "name": "stdout",
     "output_type": "stream",
     "text": [
      "lifeistoo short\n"
     ]
    }
   ],
   "source": [
    "print(\"life\" + \"is\" + \"too short\")"
   ]
  },
  {
   "cell_type": "code",
   "execution_count": 28,
   "metadata": {
    "collapsed": false
   },
   "outputs": [
    {
     "name": "stdout",
     "output_type": "stream",
     "text": [
      "life is too short\n"
     ]
    }
   ],
   "source": [
    "# , 는 공백과 같다\n",
    "print(\"life\" , \"is\" , \"too short\")"
   ]
  },
  {
   "cell_type": "code",
   "execution_count": 2,
   "metadata": {
    "collapsed": false
   },
   "outputs": [
    {
     "name": "stdout",
     "output_type": "stream",
     "text": [
      "0% 1% 2% 3% 4% 5% 6% 7% 8% 9% "
     ]
    }
   ],
   "source": [
    "#한 줄에 결과값 출력하기\n",
    "for i in range(10):\n",
    "    print(i, end=' ')\n"
   ]
  },
  {
   "cell_type": "code",
   "execution_count": 33,
   "metadata": {
    "collapsed": true
   },
   "outputs": [],
   "source": [
    "#==================\n",
    "# 파일 읽고 쓰기\n",
    "#=================="
   ]
  },
  {
   "cell_type": "code",
   "execution_count": 51,
   "metadata": {
    "collapsed": false
   },
   "outputs": [],
   "source": [
    "# 파일 쓰기(w)\n",
    "f = open(\"test.txt\", 'w')\n",
    "for i in range(1,11):\n",
    "    data = \"%d번째 줄입니다. \\n\" % i\n",
    "    f.write(data)\n",
    "f.close()"
   ]
  },
  {
   "cell_type": "code",
   "execution_count": 10,
   "metadata": {
    "collapsed": false
   },
   "outputs": [
    {
     "name": "stdout",
     "output_type": "stream",
     "text": [
      "2번째 줄입니다. \n",
      "\n",
      "3번째 줄입니다. \n",
      "\n",
      "4번째 줄입니다. \n",
      "\n",
      "5번째 줄입니다. \n",
      "\n",
      "6번째 줄입니다. \n",
      "\n",
      "7번째 줄입니다. \n",
      "\n",
      "8번째 줄입니다. \n",
      "\n",
      "9번째 줄입니다. \n",
      "\n",
      "10번째 줄입니다. \n",
      "\n",
      "11번째 줄입니다. \n",
      "\n",
      "12번째 줄입니다. \n",
      "\n",
      "13번째 줄입니다. \n",
      "\n",
      "14번째 줄입니다. \n",
      "\n",
      "15번째 줄입니다. \n",
      "\n",
      "16번째 줄입니다. \n",
      "\n",
      "17번째 줄입니다. \n",
      "\n",
      "18번째 줄입니다. \n",
      "\n",
      "19번째 줄입니다. \n",
      "\n"
     ]
    }
   ],
   "source": [
    "#파일 읽기(r)\n",
    "f = open(\"test.txt\", 'r')\n",
    "line = f.readline()\n",
    "while True:\n",
    "    line = f.readline()\n",
    "    if not line : break    \n",
    "    print(line)\n",
    "f.close()"
   ]
  },
  {
   "cell_type": "code",
   "execution_count": 5,
   "metadata": {
    "collapsed": false
   },
   "outputs": [
    {
     "name": "stdout",
     "output_type": "stream",
     "text": [
      "1번째 줄입니다. \n",
      "\n",
      "2번째 줄입니다. \n",
      "\n"
     ]
    }
   ],
   "source": [
    "#파일 읽기(r)\n",
    "f = open(\"test.txt\", 'r')\n",
    "line = f.readline()\n",
    "while True:\n",
    "    line = f.readline()\n",
    "    if not line : break    \n",
    "    print(line)\n",
    "f.close()"
   ]
  },
  {
   "cell_type": "code",
   "execution_count": 56,
   "metadata": {
    "collapsed": true
   },
   "outputs": [],
   "source": [
    "#파일 데이터 추가(a)\n",
    "f = open(\"test.txt\", 'a')\n",
    "\n",
    "for i in range(11,20):\n",
    "    data = \"%d번째 줄입니다. \\n\" % i\n",
    "    f.write(data)\n",
    "f.close()"
   ]
  },
  {
   "cell_type": "code",
   "execution_count": null,
   "metadata": {
    "collapsed": true
   },
   "outputs": [],
   "source": []
  }
 ],
 "metadata": {
  "anaconda-cloud": {},
  "kernelspec": {
   "display_name": "Python [default]",
   "language": "python",
   "name": "python3"
  },
  "language_info": {
   "codemirror_mode": {
    "name": "ipython",
    "version": 3
   },
   "file_extension": ".py",
   "mimetype": "text/x-python",
   "name": "python",
   "nbconvert_exporter": "python",
   "pygments_lexer": "ipython3",
   "version": "3.5.2"
  }
 },
 "nbformat": 4,
 "nbformat_minor": 1
}
