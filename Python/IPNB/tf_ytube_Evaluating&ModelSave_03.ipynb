{
 "cells": [
  {
   "cell_type": "markdown",
   "metadata": {},
   "source": [
    "##### YouTube  Tensorflow 2강. Model 설계하기\n",
    "##### https://www.youtube.com/watch?v=eQ-UHjyvEck&index=2&list=PL1H8jIvbSo1qOtjQXFzBxMWjL_Gc5x3yG\n",
    "\n",
    "### 1 .Model 만든 후 트레이닝 - 02. Model 테스트 하기"
   ]
  },
  {
   "cell_type": "code",
   "execution_count": 1,
   "metadata": {
    "collapsed": false
   },
   "outputs": [],
   "source": [
    "import tensorflow as tf"
   ]
  },
  {
   "cell_type": "code",
   "execution_count": 2,
   "metadata": {
    "collapsed": true
   },
   "outputs": [],
   "source": [
    "input_data = [[1,5,3,7,8,10,12],\n",
    "              [5,8,10,3,9,7,1]\n",
    "             ]\n",
    "label_data = [[0,0,0,1,0],\n",
    "             [1,0,0,0,0]\n",
    "             ]"
   ]
  },
  {
   "cell_type": "code",
   "execution_count": 3,
   "metadata": {
    "collapsed": true
   },
   "outputs": [],
   "source": [
    "INPUT_SIZE = 7\n",
    "HIDDEN1_SIZE = 10\n",
    "HIDDEN2_SIZE = 8\n",
    "CLASSES = 5\n",
    "Leaning_Rate= 0.05"
   ]
  },
  {
   "cell_type": "code",
   "execution_count": 4,
   "metadata": {
    "collapsed": true
   },
   "outputs": [],
   "source": [
    "x = tf.placeholder(tf.float32, shape=[None,INPUT_SIZE], name= \"x\")\n",
    "y_ = tf.placeholder(tf.float32, shape=[None,CLASSES], name= \"y_\")\n",
    "tensor_map={x:input_data, y_: label_data}"
   ]
  },
  {
   "cell_type": "code",
   "execution_count": 5,
   "metadata": {
    "collapsed": false,
    "scrolled": true
   },
   "outputs": [],
   "source": [
    "## Model 설계(Weight 설계) 파라미터 설정, 모델 설정\n",
    "# hiddn 1 레이어\n",
    "w_h1 = tf.Variable(tf.truncated_normal(shape=[INPUT_SIZE, HIDDEN1_SIZE]),dtype=tf.float32, name= \"w_h1\")\n",
    "b_h1 = tf.Variable(tf.zeros(shape=[HIDDEN1_SIZE]), dtype=tf.float32 , name= \"o_h1\")\n",
    "\n",
    "# hiddn 2 레이어\n",
    "w_h2 = tf.Variable(tf.truncated_normal(shape=[HIDDEN1_SIZE, HIDDEN2_SIZE]),dtype=tf.float32,  name= \"w_h2\")\n",
    "b_h2 = tf.Variable(tf.zeros(shape=[HIDDEN2_SIZE]), dtype=tf.float32 , name= \"w_h2\")\n",
    "\n",
    "# hiddn 마지막 레이어\n",
    "w_o = tf.Variable(tf.truncated_normal(shape=[HIDDEN2_SIZE, CLASSES]),dtype=tf.float32  ,name= \"w_o\")\n",
    "b_o= tf.Variable(tf.zeros(shape=[CLASSES]), dtype=tf.float32  ,name= \"b_o\")\n",
    "\n",
    "# Model Save Wegtht 저장\n",
    "param_list = [w_h1, b_h1, w_h2, b_h2, w_o, b_o]\n",
    "server = tf.train.Saver(param_list)\n",
    "\n",
    "# 참고 : sigmoid 의 정규화한 것이 softmax  softmax 와 label 과 비교해서 얼마나 다른지 비교함.(PredDiction)"
   ]
  },
  {
   "cell_type": "code",
   "execution_count": 6,
   "metadata": {
    "collapsed": true
   },
   "outputs": [],
   "source": [
    "#hidden1 = tf.matmul(x , w_h1) + b_h1 #선형 회귀 모델\n",
    "hidden1 = tf.sigmoid(tf.matmul(x , w_h1) + b_h1  ,name= \"hidden1\") #simoid를 이용한 로지스틱 회귀 모델(현재 데이터는 로지스틱)\n",
    "\n",
    "#hidden2 = tf.matmul(hidden1, w_h2) + b_h2\n",
    "hidden2 = tf.sigmoid(tf.matmul(hidden1, w_h2) + b_h2  ,name= \"hidden2\")\n",
    "\n",
    "#y = tf.matmul(hidden2, w_o) + b_o\n",
    "y = tf.sigmoid(tf.matmul(hidden2, w_o) + b_o  ,name= \"y\")"
   ]
  },
  {
   "cell_type": "code",
   "execution_count": 7,
   "metadata": {
    "collapsed": false
   },
   "outputs": [],
   "source": [
    "#cost function 정의 : cress 엔트로피\n",
    "#y = 예측값\n",
    "#cost = -y_*tf.log(y)-(1-y_)*tf.log(1-y)\n",
    "#cost = tf.reduce_sum(-y_*tf.log(y)-(1-y_)*tf.log(1-y))\n",
    "#cost = tf.reduce_mean(-y_*tf.log(y)-(1-y_)*tf.log(1-y))\n",
    "cost_ = -y_*tf.log(y)-(1-y_)*tf.log(1-y)\n",
    "cost = tf.reduce_sum(cost_, reduction_indices=1)\n",
    "cost = tf.reduce_mean(cost)\n",
    "\n",
    "#cost 최적화 , gradiend decsent(기울기 상승) , minizie 작은값\n",
    "train = tf.train.GradientDescentOptimizer(Leaning_Rate).minimize(cost)\n"
   ]
  },
  {
   "cell_type": "code",
   "execution_count": 8,
   "metadata": {
    "collapsed": true
   },
   "outputs": [],
   "source": [
    "# 모델 평가 \n",
    "correct_prediction = tf.equal(tf.argmax(y,1), tf.argmax(y_,1))\n",
    "accuracy = tf.reduce_mean(tf.cast(correct_prediction, tf.float32))"
   ]
  },
  {
   "cell_type": "code",
   "execution_count": 9,
   "metadata": {
    "collapsed": true
   },
   "outputs": [],
   "source": [
    "sess = tf.Session()"
   ]
  },
  {
   "cell_type": "markdown",
   "metadata": {},
   "source": [
    "#### 모델 새로 만들때\n",
    "init = tf.global_variables_initializer()\n",
    "sess.run(init)\n",
    "\n",
    "#### 만든 모델에 추가로 데이터 모델\n",
    "server.restore(sess, \"./tensorflow_live.ckpt\")\n"
   ]
  },
  {
   "cell_type": "code",
   "execution_count": 10,
   "metadata": {
    "collapsed": false
   },
   "outputs": [
    {
     "name": "stdout",
     "output_type": "stream",
     "text": [
      "==================\n",
      "Step  :  0\n",
      "Loss  :  4.04782\n",
      "acc   :  0.0\n",
      "==================\n",
      "Step  :  100\n",
      "Loss  :  1.2789\n",
      "acc   :  1.0\n",
      "==================\n",
      "Step  :  200\n",
      "Loss  :  0.92577\n",
      "acc   :  1.0\n",
      "==================\n",
      "Step  :  300\n",
      "Loss  :  0.639662\n",
      "acc   :  1.0\n",
      "==================\n",
      "Step  :  400\n",
      "Loss  :  0.433935\n",
      "acc   :  1.0\n",
      "==================\n",
      "Step  :  500\n",
      "Loss  :  0.304856\n",
      "acc   :  1.0\n",
      "==================\n",
      "Step  :  600\n",
      "Loss  :  0.225506\n",
      "acc   :  1.0\n",
      "==================\n",
      "Step  :  700\n",
      "Loss  :  0.1748\n",
      "acc   :  1.0\n",
      "==================\n",
      "Step  :  800\n",
      "Loss  :  0.140705\n",
      "acc   :  1.0\n",
      "==================\n",
      "Step  :  900\n",
      "Loss  :  0.116674\n",
      "acc   :  1.0\n"
     ]
    }
   ],
   "source": [
    "init = tf.global_variables_initializer()\n",
    "sess.run(init)\n",
    "#loss_, loss = sess.run([cost_, cost], tensor_map)\n",
    "#print(loss_)\n",
    "#print(loss)\n",
    "#print(sess.run(cost, feed_dict=tensor_map))\n",
    "\n",
    "for i in range(1000):\n",
    "    _,loss,acc = sess.run([train,cost,accuracy], feed_dict=tensor_map)\n",
    "    if i % 100 == 0 :\n",
    "        server.save(sess, \"./tensorflow_live.ckpt\")\n",
    "        print(\"==================\")          \n",
    "        print(\"Step  : \", i)        \n",
    "        #print(\"pred  : \", pred)        \n",
    "        print(\"Loss  : \", loss)\n",
    "        print(\"acc   : \", acc)        \n",
    "\n",
    "sess.close()    "
   ]
  },
  {
   "cell_type": "code",
   "execution_count": null,
   "metadata": {
    "collapsed": true
   },
   "outputs": [],
   "source": []
  }
 ],
 "metadata": {
  "anaconda-cloud": {},
  "kernelspec": {
   "display_name": "Python [conda root]",
   "language": "python",
   "name": "conda-root-py"
  },
  "language_info": {
   "codemirror_mode": {
    "name": "ipython",
    "version": 3
   },
   "file_extension": ".py",
   "mimetype": "text/x-python",
   "name": "python",
   "nbconvert_exporter": "python",
   "pygments_lexer": "ipython3",
   "version": "3.5.2"
  }
 },
 "nbformat": 4,
 "nbformat_minor": 1
}
