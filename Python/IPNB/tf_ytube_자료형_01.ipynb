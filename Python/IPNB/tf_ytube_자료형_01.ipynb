{
 "cells": [
  {
   "cell_type": "markdown",
   "metadata": {},
   "source": [
    "#### Tensorflow의 자료형\n",
    "- placeholder : input 데이터를 담아주는 공간(data, image, text등)\n",
    "- Variabe : 객체 weight 파라미터 메트릭스 저장할때 사용 : 반드시 초기화가 필요한 자료형\n",
    "- constant : 변하지 않는 수"
   ]
  },
  {
   "cell_type": "code",
   "execution_count": 5,
   "metadata": {
    "collapsed": true
   },
   "outputs": [],
   "source": [
    "import tensorflow as tf\n",
    "ph = tf.placeholder(dtype=tf.float32, shape=[3,3])\n",
    "var = tf.Variable([1,2,3,4,5], dtype=tf.float32)\n",
    "const = tf.constant([10,20,30,40,50], dtype=tf.float32)"
   ]
  },
  {
   "cell_type": "code",
   "execution_count": 11,
   "metadata": {
    "collapsed": false
   },
   "outputs": [
    {
     "name": "stdout",
     "output_type": "stream",
     "text": [
      "Tensor(\"Const_1:0\", shape=(5,), dtype=float32)\n"
     ]
    }
   ],
   "source": [
    "# 일반적으로 연산한 결과를 볼 수 없다.\n",
    "print(const)"
   ]
  },
  {
   "cell_type": "code",
   "execution_count": 17,
   "metadata": {
    "collapsed": false
   },
   "outputs": [
    {
     "name": "stdout",
     "output_type": "stream",
     "text": [
      "[52]\n"
     ]
    }
   ],
   "source": [
    "a = tf.constant([5])\n",
    "b = tf.constant([10])\n",
    "c = tf.constant([2])\n",
    "d= a*b+c\n",
    "sess = tf.Session()\n",
    "result=sess.run(d)\n",
    "print(result)"
   ]
  },
  {
   "cell_type": "code",
   "execution_count": 21,
   "metadata": {
    "collapsed": false
   },
   "outputs": [
    {
     "name": "stdout",
     "output_type": "stream",
     "text": [
      "[17]\n"
     ]
    }
   ],
   "source": [
    "var1 = tf.Variable([5])\n",
    "var2 = tf.Variable([3])\n",
    "var3 = tf.Variable([2])\n",
    "\n",
    "var4= var1*var2+var3\n",
    "sess = tf.Session()\n",
    "init = tf.global_variables_initializer()\n",
    "sess.run(init)\n",
    "result=sess.run(var4)\n",
    "print(result)\n",
    "# 초기화 해야 됨."
   ]
  },
  {
   "cell_type": "code",
   "execution_count": 22,
   "metadata": {
    "collapsed": false
   },
   "outputs": [
    {
     "name": "stdout",
     "output_type": "stream",
     "text": [
      "17.0\n"
     ]
    }
   ],
   "source": [
    "#placeholder 그래프 만들지 않음. 텐서와 데이터만 맵핑함. feeding해줘야함.\n",
    "value1 = 5\n",
    "value2 = 3\n",
    "value3 = 2\n",
    "ph1 = tf.placeholder(dtype=tf.float32)\n",
    "ph2 = tf.placeholder(dtype=tf.float32)\n",
    "ph3 = tf.placeholder(dtype=tf.float32)\n",
    "# key, value 로 맵핑함\n",
    "result_value = ph1 * ph2 + ph3\n",
    "feed_dict = {ph1:value1, ph2:value2, ph3:value3}\n",
    "\n",
    "sess= tf.Session()\n",
    "result=sess.run(result_value, feed_dict=feed_dict)\n",
    "print(result)\n"
   ]
  },
  {
   "cell_type": "code",
   "execution_count": 25,
   "metadata": {
    "collapsed": false
   },
   "outputs": [
    {
     "name": "stdout",
     "output_type": "stream",
     "text": [
      "[[  11.   22.   33.   44.   55.]\n",
      " [  15.   24.   33.   42.   51.]\n",
      " [  20.   40.   60.   80.  100.]]\n"
     ]
    }
   ],
   "source": [
    "#image =[1,2,3,4,5]\n",
    "image =[[1,2,3,4,5],[5,4,3,2,1],[10,20,30,40,50]]\n",
    "lable =[10,20,30,40,50]\n",
    "ph_image = tf.placeholder(dtype=tf.float32)\n",
    "ph_label = tf.placeholder(dtype=tf.float32)\n",
    "feed_dict = {ph_image:image, ph_label:lable}\n",
    "\n",
    "result_tensor= ph_image + ph_label\n",
    "sess= tf.Session()\n",
    "result=sess.run(result_tensor, feed_dict=feed_dict)\n",
    "print(result)"
   ]
  },
  {
   "cell_type": "code",
   "execution_count": null,
   "metadata": {
    "collapsed": true
   },
   "outputs": [],
   "source": []
  }
 ],
 "metadata": {
  "anaconda-cloud": {},
  "kernelspec": {
   "display_name": "Python [conda root]",
   "language": "python",
   "name": "conda-root-py"
  },
  "language_info": {
   "codemirror_mode": {
    "name": "ipython",
    "version": 3
   },
   "file_extension": ".py",
   "mimetype": "text/x-python",
   "name": "python",
   "nbconvert_exporter": "python",
   "pygments_lexer": "ipython3",
   "version": "3.5.2"
  }
 },
 "nbformat": 4,
 "nbformat_minor": 1
}
